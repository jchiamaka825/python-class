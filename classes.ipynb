{
 "cells": [
  {
   "cell_type": "markdown",
   "id": "fbc982ce-1906-41b2-a3de-5c13773fdc3c",
   "metadata": {},
   "source": [
    "<h2>python class methods</h2>                "
   ]
  },
  {
   "cell_type": "code",
   "execution_count": 2,
   "id": "1bafb91f-430e-47f0-8f16-e8e24cf538be",
   "metadata": {},
   "outputs": [],
   "source": [
    "class Test:\n",
    "    def __init__(self, tools):\n",
    "        self.tools = tools"
   ]
  },
  {
   "cell_type": "code",
   "execution_count": 3,
   "id": "044ae313-47f9-4c45-8e1a-e7d6d3562043",
   "metadata": {},
   "outputs": [
    {
     "data": {
      "text/plain": [
       "'spanner'"
      ]
     },
     "execution_count": 3,
     "metadata": {},
     "output_type": "execute_result"
    }
   ],
   "source": [
    "t = Test(\"spanner\")\n",
    "t.tools"
   ]
  },
  {
   "cell_type": "code",
   "execution_count": 5,
   "id": "6fe179d5-3009-4cdf-9170-bc074c768fb6",
   "metadata": {},
   "outputs": [],
   "source": [
    "import time"
   ]
  },
  {
   "cell_type": "code",
   "execution_count": 11,
   "id": "8ce9b781-49f5-4dac-8019-42f30fb33341",
   "metadata": {},
   "outputs": [],
   "source": [
    "class Today:\n",
    "    def __init__(self, date, time):\n",
    "        self.date = date\n",
    "        self.time = time\n",
    "        \n",
    "    def TheTime(self):\n",
    "        print(f\"The time is {self.time}\")\n",
    "\n",
    "        \n",
    "    def Date(self):\n",
    "        print(f\"Today is {self.date}\")"
   ]
  },
  {
   "cell_type": "code",
   "execution_count": 13,
   "id": "e170ad24-9e8b-4f1c-bd0b-91d0d1ee5a53",
   "metadata": {},
   "outputs": [],
   "source": [
    "T = Today(time.strftime(\"%D\"),time.strftime(\"%H-%M-&S\"))"
   ]
  },
  {
   "cell_type": "code",
   "execution_count": 14,
   "id": "3e385e72-cfec-4e89-b9f6-1476380166e2",
   "metadata": {},
   "outputs": [
    {
     "data": {
      "text/plain": [
       "'08/12/24'"
      ]
     },
     "execution_count": 14,
     "metadata": {},
     "output_type": "execute_result"
    }
   ],
   "source": [
    "T.date"
   ]
  },
  {
   "cell_type": "code",
   "execution_count": 15,
   "id": "93daf573-7673-41e9-913b-aea5c548d2f1",
   "metadata": {},
   "outputs": [
    {
     "data": {
      "text/plain": [
       "'07-36-&S'"
      ]
     },
     "execution_count": 15,
     "metadata": {},
     "output_type": "execute_result"
    }
   ],
   "source": [
    "T.time"
   ]
  },
  {
   "cell_type": "code",
   "execution_count": 16,
   "id": "53fdba74-20a3-4f3d-a57e-0cbf57534d2e",
   "metadata": {},
   "outputs": [
    {
     "name": "stdout",
     "output_type": "stream",
     "text": [
      "Today is 08/12/24\n"
     ]
    }
   ],
   "source": [
    "T.Date()"
   ]
  },
  {
   "cell_type": "code",
   "execution_count": 17,
   "id": "0e70c31b-6c07-4165-bd34-a6f356d75b7a",
   "metadata": {},
   "outputs": [],
   "source": [
    "class Run:\n",
    "    def __init__(self,name, Nchildren):\n",
    "        self.name = name\n",
    "        self.children = Nchildren\n",
    "\n",
    "    def Naming(self):\n",
    "        print(f\"My name is {self. name}\")"
   ]
  },
  {
   "cell_type": "code",
   "execution_count": 18,
   "id": "d5a1bd64-765c-4b03-8860-9d416534e35b",
   "metadata": {},
   "outputs": [],
   "source": [
    "r = Run(\"Micheal\", 5)"
   ]
  },
  {
   "cell_type": "code",
   "execution_count": 19,
   "id": "37496be7-927a-4b2d-a730-474252d76ff1",
   "metadata": {},
   "outputs": [
    {
     "data": {
      "text/plain": [
       "'Micheal'"
      ]
     },
     "execution_count": 19,
     "metadata": {},
     "output_type": "execute_result"
    }
   ],
   "source": [
    "r.name"
   ]
  },
  {
   "cell_type": "code",
   "execution_count": 20,
   "id": "796214c7-d88c-4c79-a7af-f78744d68513",
   "metadata": {},
   "outputs": [
    {
     "data": {
      "text/plain": [
       "5"
      ]
     },
     "execution_count": 20,
     "metadata": {},
     "output_type": "execute_result"
    }
   ],
   "source": [
    "r.children"
   ]
  },
  {
   "cell_type": "code",
   "execution_count": null,
   "id": "1e3acf84-d59f-463d-8611-76753d363bfb",
   "metadata": {},
   "outputs": [],
   "source": []
  }
 ],
 "metadata": {
  "kernelspec": {
   "display_name": "Python 3 (ipykernel)",
   "language": "python",
   "name": "python3"
  },
  "language_info": {
   "codemirror_mode": {
    "name": "ipython",
    "version": 3
   },
   "file_extension": ".py",
   "mimetype": "text/x-python",
   "name": "python",
   "nbconvert_exporter": "python",
   "pygments_lexer": "ipython3",
   "version": "3.12.4"
  }
 },
 "nbformat": 4,
 "nbformat_minor": 5
}
